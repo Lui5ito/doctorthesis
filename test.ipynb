{
 "cells": [
  {
   "cell_type": "code",
   "execution_count": 4,
   "metadata": {},
   "outputs": [],
   "source": [
    "import universalbands as ub\n",
    "import numpy as np\n",
    "from sklearn.gaussian_process import kernels\n",
    "import json\n",
    "import pickle\n",
    "import os\n",
    "import s3fs\n",
    "\n",
    "S3_ENDPOINT_URL = \"https://\" + os.environ[\"AWS_S3_ENDPOINT\"]\n",
    "fs = s3fs.S3FileSystem(client_kwargs={\"endpoint_url\": S3_ENDPOINT_URL})\n",
    "length_scale_list = np.round(np.linspace(0.1, 0.1, 1), 3)\n",
    "delta = 1e-3\n",
    "lambda2 = 1\n",
    "problem = \"Liang\"\n",
    "\n",
    "# Which training data\n",
    "cases = [5]\n",
    "all_sample_sizes = [100]\n",
    "all_sample_dims = [1]\n",
    "all_sample_seeds = [123]\n",
    "\n",
    "for case_number in cases:\n",
    "    for sample_size in all_sample_sizes:\n",
    "        for sample_dim in all_sample_dims:\n",
    "            for seed in all_sample_seeds:\n",
    "                for variance_lengthscale in length_scale_list:\n",
    "                    FOLDER_PATH_OUT_S3 = f\"luisito/these/sb_experiments/sdp_simultaneous/data_case_{case_number}/sample_shape_({sample_size},{sample_dim})/seed_{seed}/problem_{problem}/lambda2_{lambda2}/delta_{delta}/variance_lengthscale_{variance_lengthscale}/\"\n",
    "                    FILE_PATH_OUT_S3_MODEL = FOLDER_PATH_OUT_S3 + \"sdp_model.pkl\"\n",
    "                    with fs.open(FILE_PATH_OUT_S3_MODEL, mode=\"rb\") as file_in:\n",
    "                        loaded_model = pickle.load(file_in)"
   ]
  },
  {
   "cell_type": "code",
   "execution_count": null,
   "metadata": {},
   "outputs": [
    {
     "data": {
      "text/plain": [
       "<universalbands.models.simultaneous._ufbr.UniversalFunctionAndBandsRegressor at 0x7fdb1e45b950>"
      ]
     },
     "execution_count": 5,
     "metadata": {},
     "output_type": "execute_result"
    }
   ],
   "source": [
    "loaded_model"
   ]
  }
 ],
 "metadata": {
  "kernelspec": {
   "display_name": "base",
   "language": "python",
   "name": "python3"
  },
  "language_info": {
   "codemirror_mode": {
    "name": "ipython",
    "version": 3
   },
   "file_extension": ".py",
   "mimetype": "text/x-python",
   "name": "python",
   "nbconvert_exporter": "python",
   "pygments_lexer": "ipython3",
   "version": "3.12.7"
  }
 },
 "nbformat": 4,
 "nbformat_minor": 2
}
